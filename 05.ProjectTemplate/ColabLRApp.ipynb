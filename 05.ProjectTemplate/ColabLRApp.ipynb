{
  "nbformat": 4,
  "nbformat_minor": 0,
  "metadata": {
    "colab": {
      "name": "ColabLRApp.ipynb",
      "provenance": [],
      "collapsed_sections": []
    },
    "kernelspec": {
      "name": "python3",
      "display_name": "Python 3"
    },
    "language_info": {
      "name": "python"
    }
  },
  "cells": [
    {
      "cell_type": "markdown",
      "source": [
        "#Project Template App - Run with Ngrok and Colab"
      ],
      "metadata": {
        "id": "-Gm_AKkalOPw"
      }
    },
    {
      "cell_type": "code",
      "source": [
        "!pip install flask-ngrok > /dev/null 2>&1\n",
        "!pip install pyngrok > /dev/null 2>&1"
      ],
      "metadata": {
        "id": "yytF9rFJlTNo"
      },
      "execution_count": 6,
      "outputs": []
    },
    {
      "cell_type": "code",
      "source": [
        "from google.colab import drive\n",
        "drive.mount('/content/drive')"
      ],
      "metadata": {
        "colab": {
          "base_uri": "https://localhost:8080/"
        },
        "id": "vkVOf8LdlWMf",
        "outputId": "f7e97595-495d-4707-a932-3bb8f271a21f"
      },
      "execution_count": 7,
      "outputs": [
        {
          "output_type": "stream",
          "name": "stdout",
          "text": [
            "Drive already mounted at /content/drive; to attempt to forcibly remount, call drive.mount(\"/content/drive\", force_remount=True).\n"
          ]
        }
      ]
    },
    {
      "cell_type": "code",
      "execution_count": 8,
      "metadata": {
        "id": "UTKGEokQlIlU"
      },
      "outputs": [],
      "source": [
        "with open('drive/MyDrive/project/static/ngrok_auth.txt') as nf:\n",
        "    ngrok_auth = nf.read()"
      ]
    },
    {
      "cell_type": "code",
      "source": [
        "!ngrok authtoken $ngrok_auth"
      ],
      "metadata": {
        "colab": {
          "base_uri": "https://localhost:8080/"
        },
        "id": "U2FaiRCWlzaA",
        "outputId": "bba64515-0566-46be-fc1b-e3a50a7b5786"
      },
      "execution_count": 9,
      "outputs": [
        {
          "output_type": "stream",
          "name": "stdout",
          "text": [
            "Authtoken saved to configuration file: /root/.ngrok2/ngrok.yml\n"
          ]
        }
      ]
    },
    {
      "cell_type": "markdown",
      "source": [
        "Web Server Code"
      ],
      "metadata": {
        "id": "-X91SatBl3UH"
      }
    },
    {
      "cell_type": "code",
      "source": [
        "from flask import Flask, render_template, request\n",
        "from flask_ngrok import run_with_ngrok\n",
        "import os, joblib\n",
        "import numpy as np\n",
        "\n",
        "app = Flask(__name__, static_folder='/content/drive/MyDrive/project/static',\n",
        "                      template_folder='/content/drive/MyDrive/project/templates')\n",
        "run_with_ngrok(app)\n",
        "\n",
        "@app.route('/')\n",
        "def home():\n",
        "    menu = {'home':1, 'menu':0}\n",
        "    return render_template('index.html', menu=menu)\n",
        "\n",
        "@app.route('/iris', methods=['GET','POST'])\n",
        "def iris():\n",
        "    menu = {'home':0, 'menu':0, 'iris':1}\n",
        "    target_names = ['setosa', 'versicolor', 'virginica']\n",
        "    if request.method == 'GET':\n",
        "        return render_template('iris.html', menu=menu, options=target_names)\n",
        "    else:\n",
        "        sl = float(request.form['sl'])\n",
        "        sw = float(request.form['sw'])\n",
        "        pl = float(request.form['pl'])\n",
        "        pw = float(request.form['pw'])\n",
        "        index = int(request.form['species'])\n",
        "        species = target_names[index]\n",
        "        test_array = np.array([sl, sw, pl, pw])\n",
        "        scaler = joblib.load(os.path.join(app.static_folder, 'model/iris_scaler.pkl'))\n",
        "        test_scaled = scaler.transform(test_array.reshape(1, -1))\n",
        "        lr = joblib.load(os.path.join(app.static_folder, 'model/iris_best_lr.pkl'))\n",
        "        pred = lr.predict(test_scaled)\n",
        "        result = target_names[pred[0]]\n",
        "        return render_template('iris_res.html', menu=menu, test_data=test_array.tolist(),\n",
        "                               label=species, result=result)\n",
        "\n",
        "@app.route('/menu', methods=['GET','POST'])\n",
        "def menu():\n",
        "    menu = {'home':0, 'menu':1}\n",
        "    if request.method == 'GET':\n",
        "        languages = [\n",
        "            {'disp':'영어', 'val':'en'},\n",
        "            {'disp':'일어', 'val':'jp'},\n",
        "            {'disp':'중국어', 'val':'cn'},\n",
        "            {'disp':'프랑스어', 'val':'fr'},\n",
        "            {'disp':'스페인어', 'val':'es'}\n",
        "        ]\n",
        "        return render_template('menu.html', menu=menu,\n",
        "                                options=languages)   # 서버에서 클라이언트로 정보 전달\n",
        "    else:\n",
        "        # 사용자가 입력한 정보를 서버가 읽음\n",
        "        index = request.form['index']\n",
        "        lang = request.form['lang']\n",
        "        lyrics = request.form['lyrics']\n",
        "        #print(lang, '\\n', index, '\\n', lyrics, sep='')\n",
        "        # 사용자가 입력한 파일을 읽어서 upload 디렉토리에 저장\n",
        "        f_image = request.files['image']\n",
        "        fname = f_image.filename                # 사용자가 입력한 파일 이름\n",
        "        filename = os.path.join(app.static_folder, 'upload/') + fname\n",
        "        f_image.save(filename)\n",
        "\n",
        "        # 모델 실행후 결과를 돌려줌\n",
        "        result = '독수리 (73.52%)'\n",
        "        mtime = int(os.stat(filename).st_mtime)\n",
        "        return render_template('menu_res.html', result=result, menu=menu,\n",
        "                                fname=fname, mtime=mtime)\n",
        "\n",
        "if __name__ == '__main__':\n",
        "    app.run()"
      ],
      "metadata": {
        "colab": {
          "base_uri": "https://localhost:8080/"
        },
        "id": "qzmbgFlYl4Is",
        "outputId": "df000704-edf9-46a3-eef7-c16a2be41e0c"
      },
      "execution_count": 12,
      "outputs": [
        {
          "output_type": "stream",
          "name": "stdout",
          "text": [
            " * Serving Flask app \"__main__\" (lazy loading)\n",
            " * Environment: production\n",
            "\u001b[31m   WARNING: This is a development server. Do not use it in a production deployment.\u001b[0m\n",
            "\u001b[2m   Use a production WSGI server instead.\u001b[0m\n",
            " * Debug mode: off\n"
          ]
        },
        {
          "output_type": "stream",
          "name": "stderr",
          "text": [
            "INFO:werkzeug: * Running on http://127.0.0.1:5000/ (Press CTRL+C to quit)\n"
          ]
        },
        {
          "output_type": "stream",
          "name": "stdout",
          "text": [
            " * Running on http://8153-34-83-73-224.ngrok.io\n",
            " * Traffic stats available on http://127.0.0.1:4040\n"
          ]
        },
        {
          "output_type": "stream",
          "name": "stderr",
          "text": [
            "INFO:werkzeug:127.0.0.1 - - [26/Aug/2022 05:37:26] \"\u001b[37mGET / HTTP/1.1\u001b[0m\" 200 -\n",
            "INFO:werkzeug:127.0.0.1 - - [26/Aug/2022 05:37:26] \"\u001b[37mGET /static/img/logo.png HTTP/1.1\u001b[0m\" 200 -\n",
            "INFO:werkzeug:127.0.0.1 - - [26/Aug/2022 05:37:27] \"\u001b[37mGET /static/img/favicon.ico HTTP/1.1\u001b[0m\" 200 -\n",
            "INFO:werkzeug:127.0.0.1 - - [26/Aug/2022 05:37:29] \"\u001b[37mGET /iris HTTP/1.1\u001b[0m\" 200 -\n"
          ]
        }
      ]
    }
  ]
}