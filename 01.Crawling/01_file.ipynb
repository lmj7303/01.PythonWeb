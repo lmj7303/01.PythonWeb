{
  "cells": [
    {
      "cell_type": "markdown",
      "metadata": {
        "id": "hc1_lVGZlQFn"
      },
      "source": [
        "html 파일 열어서 원하는 정보 가져오기"
      ]
    },
    {
      "cell_type": "code",
      "execution_count": 1,
      "metadata": {
        "id": "4i8qpG3OyBMt"
      },
      "outputs": [],
      "source": [
        "from bs4 import BeautifulSoup\n",
        "with open('example.html') as f:\n",
        "  soup=BeautifulSoup(f,'html.parser')"
      ]
    },
    {
      "cell_type": "code",
      "execution_count": 2,
      "metadata": {
        "colab": {
          "base_uri": "https://localhost:8080/"
        },
        "id": "znhxzBbjlxX-",
        "outputId": "7c809c8a-e8fa-4eca-d472-5ca454f6d12e"
      },
      "outputs": [
        {
          "data": {
            "text/plain": [
              "<div>\n",
              "<p>a</p>\n",
              "<p>b</p>\n",
              "<p>c</p>\n",
              "</div>"
            ]
          },
          "execution_count": 2,
          "metadata": {},
          "output_type": "execute_result"
        }
      ],
      "source": [
        "#첫번째 DIV 태그의 내용을 가져오기\n",
        "first_div=soup.find('div')\n",
        "first_div"
      ]
    },
    {
      "cell_type": "markdown",
      "metadata": {
        "id": "6at-dadIqI-G"
      },
      "source": [
        "### 1.태그 정보:find(),find_all()"
      ]
    },
    {
      "cell_type": "code",
      "execution_count": 3,
      "metadata": {
        "colab": {
          "base_uri": "https://localhost:8080/"
        },
        "id": "5xN2z7crpb1O",
        "outputId": "1bae935e-dc36-45f5-a2d0-c35db197010a"
      },
      "outputs": [
        {
          "data": {
            "text/plain": [
              "[<p>a</p>, <p>b</p>, <p>c</p>]"
            ]
          },
          "execution_count": 3,
          "metadata": {},
          "output_type": "execute_result"
        }
      ],
      "source": [
        "#해당되는 태크를 모두 가져오기\n",
        "ps=first_div.find_all('p')\n",
        "ps"
      ]
    },
    {
      "cell_type": "code",
      "execution_count": 4,
      "metadata": {
        "colab": {
          "base_uri": "https://localhost:8080/"
        },
        "id": "8PPx25l-p3A-",
        "outputId": "7e545dff-2b75-4ac3-ef60-0faf5d35859c"
      },
      "outputs": [
        {
          "name": "stdout",
          "output_type": "stream",
          "text": [
            "<p>a</p>\n",
            "<p>b</p>\n",
            "<p>c</p>\n"
          ]
        }
      ],
      "source": [
        "for ptag in ps:\n",
        "  print(ptag)"
      ]
    },
    {
      "cell_type": "code",
      "execution_count": 5,
      "metadata": {
        "colab": {
          "base_uri": "https://localhost:8080/"
        },
        "id": "aO6JZuAnqBDn",
        "outputId": "2b25c8b9-35fc-41fe-b9f1-8212e5a8e970"
      },
      "outputs": [
        {
          "data": {
            "text/plain": [
              "<p>b</p>"
            ]
          },
          "execution_count": 5,
          "metadata": {},
          "output_type": "execute_result"
        }
      ],
      "source": [
        "ps[1]"
      ]
    },
    {
      "cell_type": "markdown",
      "metadata": {
        "id": "fl49S31AqSuW"
      },
      "source": [
        "### 2.CSS Selector:select_one(),select()"
      ]
    },
    {
      "cell_type": "code",
      "execution_count": 7,
      "metadata": {
        "colab": {
          "base_uri": "https://localhost:8080/"
        },
        "id": "NNzj_pJ1qDHO",
        "outputId": "481301c9-5a2f-4326-81cc-7199a63d2892"
      },
      "outputs": [
        {
          "data": {
            "text/plain": [
              "<div class=\"ex_class\">\n",
              "<p></p>\n",
              "<p></p>\n",
              "<p></p>\n",
              "</div>"
            ]
          },
          "execution_count": 7,
          "metadata": {},
          "output_type": "execute_result"
        }
      ],
      "source": [
        "#class 명이 ex_class인 태크의 정보 가져오기\n",
        "second_div=soup.select_one('.ex_class')\n",
        "second_div"
      ]
    },
    {
      "cell_type": "code",
      "execution_count": 8,
      "metadata": {
        "colab": {
          "base_uri": "https://localhost:8080/"
        },
        "id": "VNax-taxrHEP",
        "outputId": "c82f4ea4-1891-48db-c756-eab2db5fb642"
      },
      "outputs": [
        {
          "data": {
            "text/plain": [
              "<div id=\"ex_id\">\n",
              "<p></p>\n",
              "<p></p>\n",
              "<p></p>\n",
              "</div>"
            ]
          },
          "execution_count": 8,
          "metadata": {},
          "output_type": "execute_result"
        }
      ],
      "source": [
        "#id값이 ex_id인 태크의 정보를 가져오기\n",
        "third_div=soup.select_one('#ex_id')\n",
        "third_div"
      ]
    },
    {
      "cell_type": "code",
      "execution_count": 11,
      "metadata": {
        "colab": {
          "base_uri": "https://localhost:8080/"
        },
        "id": "O4wgwnC_rYN5",
        "outputId": "db69f295-fa5f-4990-bb23-327f7cd0d28b"
      },
      "outputs": [
        {
          "data": {
            "text/plain": [
              "3"
            ]
          },
          "execution_count": 11,
          "metadata": {},
          "output_type": "execute_result"
        }
      ],
      "source": [
        "#div 태그를 모두 가져오기\n",
        "all_divs=soup.select('div')\n",
        "len(all_divs)"
      ]
    },
    {
      "cell_type": "code",
      "execution_count": 12,
      "metadata": {
        "colab": {
          "base_uri": "https://localhost:8080/"
        },
        "id": "TgR7_XdTr9yO",
        "outputId": "f65ad830-ba72-4426-d230-c669b53b28dc"
      },
      "outputs": [
        {
          "data": {
            "text/plain": [
              "11"
            ]
          },
          "execution_count": 12,
          "metadata": {},
          "output_type": "execute_result"
        }
      ],
      "source": [
        "'''\n",
        "tag1 tag2 부자관계\n",
        "tag1,tag2 OR관계\n",
        "tag1>tag2 \n",
        "'''\n",
        "#모든 P 태그\n",
        "all_ps=soup.find_all('p')\n",
        "len(all_ps)"
      ]
    },
    {
      "cell_type": "code",
      "execution_count": 13,
      "metadata": {
        "colab": {
          "base_uri": "https://localhost:8080/"
        },
        "id": "TPwhbw8MsZjd",
        "outputId": "19b27bb9-f005-4118-ccb4-b86ebbf70655"
      },
      "outputs": [
        {
          "data": {
            "text/plain": [
              "9"
            ]
          },
          "execution_count": 13,
          "metadata": {},
          "output_type": "execute_result"
        }
      ],
      "source": [
        "#div의 자식인 P태그\n",
        "div_ps=soup.select('div p')\n",
        "len(div_ps)"
      ]
    },
    {
      "cell_type": "markdown",
      "metadata": {
        "id": "eR2Z2kR3suyU"
      },
      "source": [
        "### 3. 결과"
      ]
    },
    {
      "cell_type": "code",
      "execution_count": 16,
      "metadata": {
        "colab": {
          "base_uri": "https://localhost:8080/",
          "height": 36
        },
        "id": "06_msvAvsxYX",
        "outputId": "64d4448c-7a93-4f8a-af8d-52dc5b8b24b2"
      },
      "outputs": [
        {
          "data": {
            "application/vnd.google.colaboratory.intrinsic+json": {
              "type": "string"
            },
            "text/plain": [
              "'This is a heading'"
            ]
          },
          "execution_count": 16,
          "metadata": {},
          "output_type": "execute_result"
        }
      ],
      "source": [
        "#태그 안의 내용\n",
        "h1_info=soup.find('h1').get_text()#메소드\n",
        "h1_info"
      ]
    },
    {
      "cell_type": "code",
      "execution_count": 17,
      "metadata": {
        "colab": {
          "base_uri": "https://localhost:8080/",
          "height": 36
        },
        "id": "2x2yp-emtG9l",
        "outputId": "87a12fb6-dd5b-41f6-9a98-807a099c361e"
      },
      "outputs": [
        {
          "data": {
            "application/vnd.google.colaboratory.intrinsic+json": {
              "type": "string"
            },
            "text/plain": [
              "'This is a heading'"
            ]
          },
          "execution_count": 17,
          "metadata": {},
          "output_type": "execute_result"
        }
      ],
      "source": [
        "soup.find('h1').string#속성"
      ]
    },
    {
      "cell_type": "code",
      "execution_count": 20,
      "metadata": {
        "id": "cf3q1UFytS3I"
      },
      "outputs": [],
      "source": [
        "second_div.string"
      ]
    },
    {
      "cell_type": "code",
      "execution_count": 21,
      "metadata": {
        "colab": {
          "base_uri": "https://localhost:8080/",
          "height": 36
        },
        "id": "zwIC68JwtjfH",
        "outputId": "e7afab97-bd9f-4cb0-ead6-88eb7c526d79"
      },
      "outputs": [
        {
          "data": {
            "application/vnd.google.colaboratory.intrinsic+json": {
              "type": "string"
            },
            "text/plain": [
              "'Naver'"
            ]
          },
          "execution_count": 21,
          "metadata": {},
          "output_type": "execute_result"
        }
      ],
      "source": [
        "soup.find('a').get_text()"
      ]
    },
    {
      "cell_type": "code",
      "execution_count": 22,
      "metadata": {
        "colab": {
          "base_uri": "https://localhost:8080/",
          "height": 36
        },
        "id": "TvpbSHejtwAN",
        "outputId": "108cdcc4-c5b3-43f1-9b6f-9b7cc192ec6e"
      },
      "outputs": [
        {
          "data": {
            "application/vnd.google.colaboratory.intrinsic+json": {
              "type": "string"
            },
            "text/plain": [
              "'www.naver.com'"
            ]
          },
          "execution_count": 22,
          "metadata": {},
          "output_type": "execute_result"
        }
      ],
      "source": [
        "#속성값\n",
        "soup.find('a')['href']"
      ]
    }
  ],
  "metadata": {
    "colab": {
      "collapsed_sections": [],
      "name": "01 Crawling.ipynb",
      "provenance": []
    },
    "kernelspec": {
      "display_name": "Python 3.9.12 ('base')",
      "language": "python",
      "name": "python3"
    },
    "language_info": {
      "name": "python",
      "version": "3.9.12"
    },
    "vscode": {
      "interpreter": {
        "hash": "ff4f85d6e04298634172ac5d8264e7e9b556b95639fe52ebb9425c4d4cba0c9c"
      }
    }
  },
  "nbformat": 4,
  "nbformat_minor": 0
}
