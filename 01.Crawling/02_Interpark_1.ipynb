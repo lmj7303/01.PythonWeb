{
  "nbformat": 4,
  "nbformat_minor": 0,
  "metadata": {
    "colab": {
      "name": "02_Interpark-1.ipynb",
      "provenance": [],
      "collapsed_sections": []
    },
    "kernelspec": {
      "name": "python3",
      "display_name": "Python 3"
    },
    "language_info": {
      "name": "python"
    }
  },
  "cells": [
    {
      "cell_type": "markdown",
      "source": [
        "# 인터파크 베스트 셀러 도서 정보\n"
      ],
      "metadata": {
        "id": "_BKSDnbJutkW"
      }
    },
    {
      "cell_type": "code",
      "execution_count": 129,
      "metadata": {
        "id": "dszgfNF-unIW"
      },
      "outputs": [],
      "source": [
        "import requests\n",
        "url = 'http://book.interpark.com/display/collectlist.do?_method=bestsellerHourNew&bookblockname=b_gnb&booklinkname=%BA%A3%BD%BA%C6%AE%C1%B8&bid1=w_bgnb&bid2=LiveRanking&bid3=main&bid4=001'\n",
        "req = requests.get(url)"
      ]
    },
    {
      "cell_type": "code",
      "source": [
        "from bs4 import BeautifulSoup\n",
        "soup = BeautifulSoup(req.text, 'html.parser')"
      ],
      "metadata": {
        "id": "fOf0wdAQv5Ut"
      },
      "execution_count": 130,
      "outputs": []
    },
    {
      "cell_type": "markdown",
      "source": [
        "### step 1. 찾고자 하는 목록들을 가져온다.(list계열의 li,table계열의 tr)"
      ],
      "metadata": {
        "id": "3aYbdKRkzKln"
      }
    },
    {
      "cell_type": "code",
      "source": [
        "# 화면 내의 모든 li 태그를 찾아주니까 이렇게 하면 안됨\n",
        "lis = soup.find_all('li')\n",
        "len(lis)"
      ],
      "metadata": {
        "colab": {
          "base_uri": "https://localhost:8080/"
        },
        "id": "p2_BFS2vwIwI",
        "outputId": "b57cd715-f580-42a8-8dd0-291372d85284"
      },
      "execution_count": 131,
      "outputs": [
        {
          "output_type": "execute_result",
          "data": {
            "text/plain": [
              "3534"
            ]
          },
          "metadata": {},
          "execution_count": 131
        }
      ]
    },
    {
      "cell_type": "code",
      "source": [
        "# 15개 베스트셀러 목록의 li 태그\n",
        "lis = soup.select_one('.rankBestContentList').find_all('li')\n",
        "len(lis)"
      ],
      "metadata": {
        "colab": {
          "base_uri": "https://localhost:8080/"
        },
        "id": "biwyWwgixfFF",
        "outputId": "85896910-460b-4c78-8839-1fd198d28965"
      },
      "execution_count": 132,
      "outputs": [
        {
          "output_type": "execute_result",
          "data": {
            "text/plain": [
              "60"
            ]
          },
          "metadata": {},
          "execution_count": 132
        }
      ]
    },
    {
      "cell_type": "code",
      "source": [
        "# ol 태그의 자식 태그 li 만 찾아주는 방법\n",
        "lis = soup.select_one('.rankBestContentList').select('ol > li')\n",
        "len(lis)"
      ],
      "metadata": {
        "colab": {
          "base_uri": "https://localhost:8080/"
        },
        "id": "kqgNy1XFyWbl",
        "outputId": "3bb3b80d-d190-4dc2-9cd2-7e287b2a5b8f"
      },
      "execution_count": 133,
      "outputs": [
        {
          "output_type": "execute_result",
          "data": {
            "text/plain": [
              "15"
            ]
          },
          "metadata": {},
          "execution_count": 133
        }
      ]
    },
    {
      "cell_type": "code",
      "source": [
        "lis = soup.select('.rankBestContentList > ol > li')\n",
        "len(lis)"
      ],
      "metadata": {
        "colab": {
          "base_uri": "https://localhost:8080/"
        },
        "id": "ti0Ex5Grzj-P",
        "outputId": "20a5f6ca-4aba-41e7-9fdf-53061a899766"
      },
      "execution_count": 134,
      "outputs": [
        {
          "output_type": "execute_result",
          "data": {
            "text/plain": [
              "15"
            ]
          },
          "metadata": {},
          "execution_count": 134
        }
      ]
    },
    {
      "cell_type": "markdown",
      "source": [
        "### step 2. 목록등 중에 하나를 선택해 세부 내용을 가져온다."
      ],
      "metadata": {
        "id": "KOOYsohs25At"
      }
    },
    {
      "cell_type": "code",
      "source": [
        "li=lis[0]"
      ],
      "metadata": {
        "id": "YEUFmS5I2-2B"
      },
      "execution_count": 135,
      "outputs": []
    },
    {
      "cell_type": "code",
      "source": [
        "# 책 제목\n",
        "title = li.select_one('.itemName').get_text().strip()\n",
        "title"
      ],
      "metadata": {
        "colab": {
          "base_uri": "https://localhost:8080/",
          "height": 36
        },
        "id": "V-UF_la_3Pi0",
        "outputId": "7ad77847-6be3-4a60-d01f-f98a9b94f614"
      },
      "execution_count": 136,
      "outputs": [
        {
          "output_type": "execute_result",
          "data": {
            "text/plain": [
              "'하얼빈'"
            ],
            "application/vnd.google.colaboratory.intrinsic+json": {
              "type": "string"
            }
          },
          "metadata": {},
          "execution_count": 136
        }
      ]
    },
    {
      "cell_type": "code",
      "source": [
        "# 저자\n",
        "author = li.select_one('.author').get_text().strip()\n",
        "author"
      ],
      "metadata": {
        "colab": {
          "base_uri": "https://localhost:8080/",
          "height": 36
        },
        "id": "mE4eguUQGUM7",
        "outputId": "aac0a34f-a467-4b5a-dd34-dbe3dc171ed6"
      },
      "execution_count": 137,
      "outputs": [
        {
          "output_type": "execute_result",
          "data": {
            "text/plain": [
              "'김훈(金薰)'"
            ],
            "application/vnd.google.colaboratory.intrinsic+json": {
              "type": "string"
            }
          },
          "metadata": {},
          "execution_count": 137
        }
      ]
    },
    {
      "cell_type": "code",
      "source": [
        "# 출판사\n",
        "company = li.select_one('.company').get_text().strip()\n",
        "company"
      ],
      "metadata": {
        "colab": {
          "base_uri": "https://localhost:8080/",
          "height": 36
        },
        "id": "kQ2ogcMt4eAU",
        "outputId": "bc8b6432-67c6-4553-b8f1-da05a7126122"
      },
      "execution_count": 138,
      "outputs": [
        {
          "output_type": "execute_result",
          "data": {
            "text/plain": [
              "'문학동네'"
            ],
            "application/vnd.google.colaboratory.intrinsic+json": {
              "type": "string"
            }
          },
          "metadata": {},
          "execution_count": 138
        }
      ]
    },
    {
      "cell_type": "code",
      "source": [
        "# 가격\n",
        "price = li.select_one('.price > em').get_text().strip()\n",
        "price = int(price.replace(',',''))\n",
        "price"
      ],
      "metadata": {
        "colab": {
          "base_uri": "https://localhost:8080/"
        },
        "id": "c3GL6ITQ4eUm",
        "outputId": "129c60d4-89b6-4627-bbd3-9aaeba3d2c47"
      },
      "execution_count": 139,
      "outputs": [
        {
          "output_type": "execute_result",
          "data": {
            "text/plain": [
              "14400"
            ]
          },
          "metadata": {},
          "execution_count": 139
        }
      ]
    },
    {
      "cell_type": "code",
      "source": [
        "# 순위\n",
        "li = lis[13]\n",
        "rank_spans = li.select('.rankBtn_ctrl')\n",
        "rank_spans"
      ],
      "metadata": {
        "colab": {
          "base_uri": "https://localhost:8080/"
        },
        "id": "ZRIXu4lz53el",
        "outputId": "17bd842f-93a9-4beb-81f6-d2e2aa113ccd"
      },
      "execution_count": 140,
      "outputs": [
        {
          "output_type": "execute_result",
          "data": {
            "text/plain": [
              "[<span class=\"rankBtn_ctrl rkNum_M01 \"></span>,\n",
              " <span class=\"rankBtn_ctrl rkNum_M02 \"></span>]"
            ]
          },
          "metadata": {},
          "execution_count": 140
        }
      ]
    },
    {
      "cell_type": "code",
      "source": [
        "for span in rank_spans:\n",
        "    print(span['class'])"
      ],
      "metadata": {
        "colab": {
          "base_uri": "https://localhost:8080/"
        },
        "id": "CHt8VsCM6M0l",
        "outputId": "bc2739e0-4c44-4533-d37c-89ac6c92e097"
      },
      "execution_count": 141,
      "outputs": [
        {
          "output_type": "stream",
          "name": "stdout",
          "text": [
            "['rankBtn_ctrl', 'rkNum_M01', '']\n",
            "['rankBtn_ctrl', 'rkNum_M02', '']\n"
          ]
        }
      ]
    },
    {
      "cell_type": "code",
      "source": [
        "for span in rank_spans:\n",
        "    print(span['class'][1][-1])"
      ],
      "metadata": {
        "colab": {
          "base_uri": "https://localhost:8080/"
        },
        "id": "aZkMsnaK6jUM",
        "outputId": "e9fe0b8e-8505-445a-9dc8-aa27ca821af1"
      },
      "execution_count": 142,
      "outputs": [
        {
          "output_type": "stream",
          "name": "stdout",
          "text": [
            "1\n",
            "2\n"
          ]
        }
      ]
    },
    {
      "cell_type": "code",
      "source": [
        "rank = ''\n",
        "for span in rank_spans:\n",
        "    rank += span['class'][1][-1]\n",
        "rank = int(rank)\n",
        "rank"
      ],
      "metadata": {
        "colab": {
          "base_uri": "https://localhost:8080/"
        },
        "id": "3s0PEe2Z61kv",
        "outputId": "07a9e3f3-aa1c-43ec-d3ce-b90bdbb14eb0"
      },
      "execution_count": 143,
      "outputs": [
        {
          "output_type": "execute_result",
          "data": {
            "text/plain": [
              "12"
            ]
          },
          "metadata": {},
          "execution_count": 143
        }
      ]
    },
    {
      "cell_type": "markdown",
      "source": [
        "### step 3. 모든 목록에 대해서 세부 정보를 가져와서 데이터프레임으로 만든다."
      ],
      "metadata": {
        "id": "qQofPoED71Z5"
      }
    },
    {
      "cell_type": "code",
      "source": [
        "import pandas as pd"
      ],
      "metadata": {
        "id": "ymhfn-OL8VvI"
      },
      "execution_count": 125,
      "outputs": []
    },
    {
      "cell_type": "code",
      "source": [
        "lines = []\n",
        "for li in lis:\n",
        "    title = li.select_one('.itemName').get_text().strip()\n",
        "    author = li.select_one('.author').get_text().strip()\n",
        "    company = li.select_one('.company').get_text().strip()\n",
        "    price = li.select_one('.price > em').get_text().strip()\n",
        "    price = int(price.replace(',',''))\n",
        "    rank = ''\n",
        "    rank_spans = li.select('.rankBtn_ctrl')\n",
        "    for span in rank_spans:\n",
        "        rank += span['class'][1][-1]\n",
        "    rank = int(rank)\n",
        "    lines.append([rank, title, author, company, price])"
      ],
      "metadata": {
        "id": "ofoZB2mX8K2V"
      },
      "execution_count": 144,
      "outputs": []
    },
    {
      "cell_type": "code",
      "source": [
        "# 어디서 에러가 발생했는지 알고싶은 경우\n",
        "lines = []\n",
        "for i, li in enumerate(lis):\n",
        "    try:\n",
        "        title = li.select_one('.itemName').get_text().strip()\n",
        "        author = li.select_one('.author').get_text().strip()\n",
        "        company = li.select_one('.company').get_text().strip()\n",
        "        price = li.select_one('.price > em').get_text().strip()\n",
        "        price = int(price.replace(',',''))\n",
        "        rank = ''\n",
        "        rank_spans = li.select('.rankBtn_ctrl')\n",
        "        for span in rank_spans:\n",
        "            rank += span['class'][1][-1]\n",
        "        rank = int(rank)\n",
        "        lines.append([rank, title, author, company, price])\n",
        "    except:\n",
        "        print(i)"
      ],
      "metadata": {
        "id": "V-HY3ji_BFEU"
      },
      "execution_count": 145,
      "outputs": []
    },
    {
      "cell_type": "code",
      "source": [
        "df = pd.DataFrame(lines, columns=['순위','제목','저자','출판사','가격'])\n",
        "df"
      ],
      "metadata": {
        "colab": {
          "base_uri": "https://localhost:8080/",
          "height": 520
        },
        "id": "-dHaqrN59rhc",
        "outputId": "83463767-557d-4c92-942c-2614bbd8cc92"
      },
      "execution_count": 146,
      "outputs": [
        {
          "output_type": "execute_result",
          "data": {
            "text/plain": [
              "    순위                                 제목                         저자      출판사  \\\n",
              "0    1                                하얼빈                     김훈(金薰)     문학동네   \n",
              "1    2                    미래의 부를 위한 투자 공부                        신진상     미디어숲   \n",
              "2    3                          불편한 편의점 2                        김호연    나무옆의자   \n",
              "3    4            불편한 편의점(40만부 기념 벚꽃 에디션)                        김호연    나무옆의자   \n",
              "4    5                          계속 가보겠습니다                        임은정   메디치미디어   \n",
              "5    6                             가불 선진국                         조국   메디치미디어   \n",
              "6    7                          헤어질 결심 각본                   정서경, 박찬욱    을유문화사   \n",
              "7    7                     아직 긴 인생이 남았습니다        기시미 이치로(岸見一郞)/전경아 역   한국경제신문   \n",
              "8    9                            흔한남매 11  흔한남매, 백난도/유난희 그림/흔한컴퍼니 감수  미래엔아이세움   \n",
              "9    9                                역행자                         자청  웅진지식하우스   \n",
              "10  11                              파친코 1                  이민진/신승미 역    인플루엔셜   \n",
              "11  12                      예쁘게 말하는 네가 좋다                        김범준   포레스트북스   \n",
              "12  12                   세 번째 위기, 세 번째 기회    박병창, 박세익, 안유화, 염승환, 오건영     베가북스   \n",
              "13  12           마법천자문 53: 결정을 내리다! 결단할 결          유대영/홍거북 그림/김창환 감수      아울북   \n",
              "14  12  한 개의 기쁨이 천 개의 슬픔을 이긴다: 삶과 태도에 관하여                        조우성      서삼독   \n",
              "\n",
              "       가격  \n",
              "0   14400  \n",
              "1   16020  \n",
              "2   12600  \n",
              "3   12600  \n",
              "4   16200  \n",
              "5   14400  \n",
              "6   13500  \n",
              "7   14400  \n",
              "8   13050  \n",
              "9   15750  \n",
              "10  14220  \n",
              "11  14220  \n",
              "12  16200  \n",
              "13  12600  \n",
              "14  13320  "
            ],
            "text/html": [
              "\n",
              "  <div id=\"df-566929ab-62e1-49d8-b020-e5b8ee10622d\">\n",
              "    <div class=\"colab-df-container\">\n",
              "      <div>\n",
              "<style scoped>\n",
              "    .dataframe tbody tr th:only-of-type {\n",
              "        vertical-align: middle;\n",
              "    }\n",
              "\n",
              "    .dataframe tbody tr th {\n",
              "        vertical-align: top;\n",
              "    }\n",
              "\n",
              "    .dataframe thead th {\n",
              "        text-align: right;\n",
              "    }\n",
              "</style>\n",
              "<table border=\"1\" class=\"dataframe\">\n",
              "  <thead>\n",
              "    <tr style=\"text-align: right;\">\n",
              "      <th></th>\n",
              "      <th>순위</th>\n",
              "      <th>제목</th>\n",
              "      <th>저자</th>\n",
              "      <th>출판사</th>\n",
              "      <th>가격</th>\n",
              "    </tr>\n",
              "  </thead>\n",
              "  <tbody>\n",
              "    <tr>\n",
              "      <th>0</th>\n",
              "      <td>1</td>\n",
              "      <td>하얼빈</td>\n",
              "      <td>김훈(金薰)</td>\n",
              "      <td>문학동네</td>\n",
              "      <td>14400</td>\n",
              "    </tr>\n",
              "    <tr>\n",
              "      <th>1</th>\n",
              "      <td>2</td>\n",
              "      <td>미래의 부를 위한 투자 공부</td>\n",
              "      <td>신진상</td>\n",
              "      <td>미디어숲</td>\n",
              "      <td>16020</td>\n",
              "    </tr>\n",
              "    <tr>\n",
              "      <th>2</th>\n",
              "      <td>3</td>\n",
              "      <td>불편한 편의점 2</td>\n",
              "      <td>김호연</td>\n",
              "      <td>나무옆의자</td>\n",
              "      <td>12600</td>\n",
              "    </tr>\n",
              "    <tr>\n",
              "      <th>3</th>\n",
              "      <td>4</td>\n",
              "      <td>불편한 편의점(40만부 기념 벚꽃 에디션)</td>\n",
              "      <td>김호연</td>\n",
              "      <td>나무옆의자</td>\n",
              "      <td>12600</td>\n",
              "    </tr>\n",
              "    <tr>\n",
              "      <th>4</th>\n",
              "      <td>5</td>\n",
              "      <td>계속 가보겠습니다</td>\n",
              "      <td>임은정</td>\n",
              "      <td>메디치미디어</td>\n",
              "      <td>16200</td>\n",
              "    </tr>\n",
              "    <tr>\n",
              "      <th>5</th>\n",
              "      <td>6</td>\n",
              "      <td>가불 선진국</td>\n",
              "      <td>조국</td>\n",
              "      <td>메디치미디어</td>\n",
              "      <td>14400</td>\n",
              "    </tr>\n",
              "    <tr>\n",
              "      <th>6</th>\n",
              "      <td>7</td>\n",
              "      <td>헤어질 결심 각본</td>\n",
              "      <td>정서경, 박찬욱</td>\n",
              "      <td>을유문화사</td>\n",
              "      <td>13500</td>\n",
              "    </tr>\n",
              "    <tr>\n",
              "      <th>7</th>\n",
              "      <td>7</td>\n",
              "      <td>아직 긴 인생이 남았습니다</td>\n",
              "      <td>기시미 이치로(岸見一郞)/전경아 역</td>\n",
              "      <td>한국경제신문</td>\n",
              "      <td>14400</td>\n",
              "    </tr>\n",
              "    <tr>\n",
              "      <th>8</th>\n",
              "      <td>9</td>\n",
              "      <td>흔한남매 11</td>\n",
              "      <td>흔한남매, 백난도/유난희 그림/흔한컴퍼니 감수</td>\n",
              "      <td>미래엔아이세움</td>\n",
              "      <td>13050</td>\n",
              "    </tr>\n",
              "    <tr>\n",
              "      <th>9</th>\n",
              "      <td>9</td>\n",
              "      <td>역행자</td>\n",
              "      <td>자청</td>\n",
              "      <td>웅진지식하우스</td>\n",
              "      <td>15750</td>\n",
              "    </tr>\n",
              "    <tr>\n",
              "      <th>10</th>\n",
              "      <td>11</td>\n",
              "      <td>파친코 1</td>\n",
              "      <td>이민진/신승미 역</td>\n",
              "      <td>인플루엔셜</td>\n",
              "      <td>14220</td>\n",
              "    </tr>\n",
              "    <tr>\n",
              "      <th>11</th>\n",
              "      <td>12</td>\n",
              "      <td>예쁘게 말하는 네가 좋다</td>\n",
              "      <td>김범준</td>\n",
              "      <td>포레스트북스</td>\n",
              "      <td>14220</td>\n",
              "    </tr>\n",
              "    <tr>\n",
              "      <th>12</th>\n",
              "      <td>12</td>\n",
              "      <td>세 번째 위기, 세 번째 기회</td>\n",
              "      <td>박병창, 박세익, 안유화, 염승환, 오건영</td>\n",
              "      <td>베가북스</td>\n",
              "      <td>16200</td>\n",
              "    </tr>\n",
              "    <tr>\n",
              "      <th>13</th>\n",
              "      <td>12</td>\n",
              "      <td>마법천자문 53: 결정을 내리다! 결단할 결</td>\n",
              "      <td>유대영/홍거북 그림/김창환 감수</td>\n",
              "      <td>아울북</td>\n",
              "      <td>12600</td>\n",
              "    </tr>\n",
              "    <tr>\n",
              "      <th>14</th>\n",
              "      <td>12</td>\n",
              "      <td>한 개의 기쁨이 천 개의 슬픔을 이긴다: 삶과 태도에 관하여</td>\n",
              "      <td>조우성</td>\n",
              "      <td>서삼독</td>\n",
              "      <td>13320</td>\n",
              "    </tr>\n",
              "  </tbody>\n",
              "</table>\n",
              "</div>\n",
              "      <button class=\"colab-df-convert\" onclick=\"convertToInteractive('df-566929ab-62e1-49d8-b020-e5b8ee10622d')\"\n",
              "              title=\"Convert this dataframe to an interactive table.\"\n",
              "              style=\"display:none;\">\n",
              "        \n",
              "  <svg xmlns=\"http://www.w3.org/2000/svg\" height=\"24px\"viewBox=\"0 0 24 24\"\n",
              "       width=\"24px\">\n",
              "    <path d=\"M0 0h24v24H0V0z\" fill=\"none\"/>\n",
              "    <path d=\"M18.56 5.44l.94 2.06.94-2.06 2.06-.94-2.06-.94-.94-2.06-.94 2.06-2.06.94zm-11 1L8.5 8.5l.94-2.06 2.06-.94-2.06-.94L8.5 2.5l-.94 2.06-2.06.94zm10 10l.94 2.06.94-2.06 2.06-.94-2.06-.94-.94-2.06-.94 2.06-2.06.94z\"/><path d=\"M17.41 7.96l-1.37-1.37c-.4-.4-.92-.59-1.43-.59-.52 0-1.04.2-1.43.59L10.3 9.45l-7.72 7.72c-.78.78-.78 2.05 0 2.83L4 21.41c.39.39.9.59 1.41.59.51 0 1.02-.2 1.41-.59l7.78-7.78 2.81-2.81c.8-.78.8-2.07 0-2.86zM5.41 20L4 18.59l7.72-7.72 1.47 1.35L5.41 20z\"/>\n",
              "  </svg>\n",
              "      </button>\n",
              "      \n",
              "  <style>\n",
              "    .colab-df-container {\n",
              "      display:flex;\n",
              "      flex-wrap:wrap;\n",
              "      gap: 12px;\n",
              "    }\n",
              "\n",
              "    .colab-df-convert {\n",
              "      background-color: #E8F0FE;\n",
              "      border: none;\n",
              "      border-radius: 50%;\n",
              "      cursor: pointer;\n",
              "      display: none;\n",
              "      fill: #1967D2;\n",
              "      height: 32px;\n",
              "      padding: 0 0 0 0;\n",
              "      width: 32px;\n",
              "    }\n",
              "\n",
              "    .colab-df-convert:hover {\n",
              "      background-color: #E2EBFA;\n",
              "      box-shadow: 0px 1px 2px rgba(60, 64, 67, 0.3), 0px 1px 3px 1px rgba(60, 64, 67, 0.15);\n",
              "      fill: #174EA6;\n",
              "    }\n",
              "\n",
              "    [theme=dark] .colab-df-convert {\n",
              "      background-color: #3B4455;\n",
              "      fill: #D2E3FC;\n",
              "    }\n",
              "\n",
              "    [theme=dark] .colab-df-convert:hover {\n",
              "      background-color: #434B5C;\n",
              "      box-shadow: 0px 1px 3px 1px rgba(0, 0, 0, 0.15);\n",
              "      filter: drop-shadow(0px 1px 2px rgba(0, 0, 0, 0.3));\n",
              "      fill: #FFFFFF;\n",
              "    }\n",
              "  </style>\n",
              "\n",
              "      <script>\n",
              "        const buttonEl =\n",
              "          document.querySelector('#df-566929ab-62e1-49d8-b020-e5b8ee10622d button.colab-df-convert');\n",
              "        buttonEl.style.display =\n",
              "          google.colab.kernel.accessAllowed ? 'block' : 'none';\n",
              "\n",
              "        async function convertToInteractive(key) {\n",
              "          const element = document.querySelector('#df-566929ab-62e1-49d8-b020-e5b8ee10622d');\n",
              "          const dataTable =\n",
              "            await google.colab.kernel.invokeFunction('convertToInteractive',\n",
              "                                                     [key], {});\n",
              "          if (!dataTable) return;\n",
              "\n",
              "          const docLinkHtml = 'Like what you see? Visit the ' +\n",
              "            '<a target=\"_blank\" href=https://colab.research.google.com/notebooks/data_table.ipynb>data table notebook</a>'\n",
              "            + ' to learn more about interactive tables.';\n",
              "          element.innerHTML = '';\n",
              "          dataTable['output_type'] = 'display_data';\n",
              "          await google.colab.output.renderOutput(dataTable, element);\n",
              "          const docLink = document.createElement('div');\n",
              "          docLink.innerHTML = docLinkHtml;\n",
              "          element.appendChild(docLink);\n",
              "        }\n",
              "      </script>\n",
              "    </div>\n",
              "  </div>\n",
              "  "
            ]
          },
          "metadata": {},
          "execution_count": 146
        }
      ]
    }
  ]
}