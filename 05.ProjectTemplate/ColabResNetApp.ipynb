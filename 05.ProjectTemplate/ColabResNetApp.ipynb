{
  "nbformat": 4,
  "nbformat_minor": 0,
  "metadata": {
    "colab": {
      "name": "ColabResNetApp.ipynb",
      "provenance": [],
      "collapsed_sections": []
    },
    "kernelspec": {
      "name": "python3",
      "display_name": "Python 3"
    },
    "language_info": {
      "name": "python"
    }
  },
  "cells": [
    {
      "cell_type": "markdown",
      "source": [
        "#Project Template App - Run with Ngrok and Colab"
      ],
      "metadata": {
        "id": "-Gm_AKkalOPw"
      }
    },
    {
      "cell_type": "code",
      "source": [
        "!pip install flask-ngrok > /dev/null 2>&1\n",
        "!pip install pyngrok > /dev/null 2>&1"
      ],
      "metadata": {
        "id": "yytF9rFJlTNo"
      },
      "execution_count": 1,
      "outputs": []
    },
    {
      "cell_type": "code",
      "source": [
        "from google.colab import drive\n",
        "drive.mount('/content/drive')"
      ],
      "metadata": {
        "colab": {
          "base_uri": "https://localhost:8080/"
        },
        "id": "vkVOf8LdlWMf",
        "outputId": "38f1c194-beb5-4796-db57-4f80aecd14e5"
      },
      "execution_count": 2,
      "outputs": [
        {
          "output_type": "stream",
          "name": "stdout",
          "text": [
            "Mounted at /content/drive\n"
          ]
        }
      ]
    },
    {
      "cell_type": "code",
      "execution_count": 3,
      "metadata": {
        "id": "UTKGEokQlIlU"
      },
      "outputs": [],
      "source": [
        "with open('drive/MyDrive/project/static/ngrok_auth.txt') as nf:\n",
        "    ngrok_auth = nf.read()"
      ]
    },
    {
      "cell_type": "code",
      "source": [
        "!ngrok authtoken $ngrok_auth"
      ],
      "metadata": {
        "colab": {
          "base_uri": "https://localhost:8080/"
        },
        "id": "U2FaiRCWlzaA",
        "outputId": "3e769cba-1fd8-4b4a-f9f2-4d03e582c960"
      },
      "execution_count": 4,
      "outputs": [
        {
          "output_type": "stream",
          "name": "stdout",
          "text": [
            "Authtoken saved to configuration file: /root/.ngrok2/ngrok.yml\n"
          ]
        }
      ]
    },
    {
      "cell_type": "markdown",
      "source": [
        "Web Server Code"
      ],
      "metadata": {
        "id": "-X91SatBl3UH"
      }
    },
    {
      "cell_type": "code",
      "source": [
        "from flask import Flask, render_template, request\n",
        "from flask_ngrok import run_with_ngrok\n",
        "import os\n",
        "from tensorflow.keras.applications.resnet50 import ResNet50,decode_predictions\n",
        "import numpy as np\n",
        "from PIL import Image\n",
        "import matplotlib.pyplot as plt\n",
        "\n",
        "\n",
        "app = Flask(__name__, static_folder='/content/drive/MyDrive/project/static',\n",
        "                      template_folder='/content/drive/MyDrive/project/templates')\n",
        "run_with_ngrok(app)\n",
        "\n",
        "@app.route('/')\n",
        "def home():\n",
        "    menu = {'home':1, 'menu':0}\n",
        "    return render_template('index.html', menu=menu)\n",
        "\n",
        "@app.route('/menu', methods=['GET','POST'])\n",
        "def menu():\n",
        "    menu = {'home':0, 'menu':1}\n",
        "    if request.method == 'GET':\n",
        "        languages = [\n",
        "            {'disp':'영어', 'val':'en'},\n",
        "            {'disp':'일어', 'val':'jp'},\n",
        "            {'disp':'중국어', 'val':'cn'},\n",
        "            {'disp':'프랑스어', 'val':'fr'},\n",
        "            {'disp':'스페인어', 'val':'es'}\n",
        "        ]\n",
        "        return render_template('menu.html', menu=menu,\n",
        "                                options=languages)   # 서버에서 클라이언트로 정보 전달\n",
        "    else:\n",
        "        # 사용자가 입력한 정보를 서버가 읽음\n",
        "        index = request.form['index']\n",
        "        lang = request.form['lang']\n",
        "        lyrics = request.form['lyrics']\n",
        "        #print(lang, '\\n', index, '\\n', lyrics, sep='')\n",
        "        # 사용자가 입력한 파일을 읽어서 upload 디렉토리에 저장\n",
        "        f_image = request.files['image']\n",
        "        fname = f_image.filename                # 사용자가 입력한 파일 이름\n",
        "        filename = os.path.join(app.static_folder, 'upload/') + fname\n",
        "        f_image.save(filename)\n",
        "\n",
        "        # 모델 실행후 결과를 돌려줌\n",
        "        result = '독수리 (73.52%)'\n",
        "        mtime = int(os.stat(filename).st_mtime)\n",
        "        return render_template('menu_res.html', result=result, menu=menu,\n",
        "                                fname=fname, mtime=mtime)\n",
        "\n",
        "if __name__ == '__main__':\n",
        "    app.run()"
      ],
      "metadata": {
        "colab": {
          "base_uri": "https://localhost:8080/"
        },
        "id": "qzmbgFlYl4Is",
        "outputId": "bdf018a6-8f1b-476c-ee43-7f9b8d3a58b3"
      },
      "execution_count": null,
      "outputs": [
        {
          "output_type": "stream",
          "name": "stdout",
          "text": [
            " * Serving Flask app \"__main__\" (lazy loading)\n",
            " * Environment: production\n",
            "\u001b[31m   WARNING: This is a development server. Do not use it in a production deployment.\u001b[0m\n",
            "\u001b[2m   Use a production WSGI server instead.\u001b[0m\n",
            " * Debug mode: off\n"
          ]
        },
        {
          "output_type": "stream",
          "name": "stderr",
          "text": [
            "INFO:werkzeug: * Running on http://127.0.0.1:5000/ (Press CTRL+C to quit)\n"
          ]
        },
        {
          "output_type": "stream",
          "name": "stdout",
          "text": [
            " * Running on http://9581-34-148-104-58.ngrok.io\n",
            " * Traffic stats available on http://127.0.0.1:4040\n"
          ]
        }
      ]
    }
  ]
}