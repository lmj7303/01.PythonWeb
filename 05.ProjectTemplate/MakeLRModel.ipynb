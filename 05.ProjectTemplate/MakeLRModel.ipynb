{
  "nbformat": 4,
  "nbformat_minor": 0,
  "metadata": {
    "colab": {
      "name": "MakeLRModel.ipynb",
      "provenance": [],
      "collapsed_sections": []
    },
    "kernelspec": {
      "name": "python3",
      "display_name": "Python 3"
    },
    "language_info": {
      "name": "python"
    }
  },
  "cells": [
    {
      "cell_type": "markdown",
      "source": [
        "# Iris data를 Logistic Regression으로 분류하는 모델 생성"
      ],
      "metadata": {
        "id": "yhdyHwflA350"
      }
    },
    {
      "cell_type": "code",
      "execution_count": 9,
      "metadata": {
        "id": "5VpFujqqAzq9"
      },
      "outputs": [],
      "source": [
        "from sklearn.datasets import load_iris\n",
        "from sklearn.preprocessing import MinMaxScaler\n",
        "from sklearn.model_selection import train_test_split,GridSearchCV\n",
        "from sklearn.linear_model import LogisticRegression"
      ]
    },
    {
      "cell_type": "code",
      "source": [
        "iris=load_iris()\n",
        "iris_scaled=MinMaxScaler().fit_transform(iris.data)\n",
        "iris_scaled[:3]"
      ],
      "metadata": {
        "colab": {
          "base_uri": "https://localhost:8080/"
        },
        "id": "LY-oRYpPBbSc",
        "outputId": "b6795c6e-e922-4a94-9e5a-966908f183e0"
      },
      "execution_count": 2,
      "outputs": [
        {
          "output_type": "execute_result",
          "data": {
            "text/plain": [
              "array([[0.22222222, 0.625     , 0.06779661, 0.04166667],\n",
              "       [0.16666667, 0.41666667, 0.06779661, 0.04166667],\n",
              "       [0.11111111, 0.5       , 0.05084746, 0.04166667]])"
            ]
          },
          "metadata": {},
          "execution_count": 2
        }
      ]
    },
    {
      "cell_type": "code",
      "source": [
        "iris.data[:3]"
      ],
      "metadata": {
        "colab": {
          "base_uri": "https://localhost:8080/"
        },
        "id": "H5nXoFcpCEXz",
        "outputId": "21e0eb72-a2fb-4a55-fd98-6894135082d9"
      },
      "execution_count": 3,
      "outputs": [
        {
          "output_type": "execute_result",
          "data": {
            "text/plain": [
              "array([[5.1, 3.5, 1.4, 0.2],\n",
              "       [4.9, 3. , 1.4, 0.2],\n",
              "       [4.7, 3.2, 1.3, 0.2]])"
            ]
          },
          "metadata": {},
          "execution_count": 3
        }
      ]
    },
    {
      "cell_type": "markdown",
      "source": [
        "### 1.scaler 저장"
      ],
      "metadata": {
        "id": "TBrKurHpDRq5"
      }
    },
    {
      "cell_type": "code",
      "source": [
        "X_train,X_test,y_train,y_test=train_test_split(\n",
        "    iris.data,iris.target,stratify=iris.target,test_size=0.2,random_state=2022\n",
        ")"
      ],
      "metadata": {
        "id": "pS0ajk_iBvZ7"
      },
      "execution_count": 4,
      "outputs": []
    },
    {
      "cell_type": "code",
      "source": [
        "X_test[:3]"
      ],
      "metadata": {
        "colab": {
          "base_uri": "https://localhost:8080/"
        },
        "id": "Et8oVYSACfsL",
        "outputId": "f92bf8df-8983-449b-978f-85a099ed2d22"
      },
      "execution_count": 5,
      "outputs": [
        {
          "output_type": "execute_result",
          "data": {
            "text/plain": [
              "array([[7.1, 3. , 5.9, 2.1],\n",
              "       [4.8, 3.4, 1.9, 0.2],\n",
              "       [6.7, 3. , 5. , 1.7]])"
            ]
          },
          "metadata": {},
          "execution_count": 5
        }
      ]
    },
    {
      "cell_type": "code",
      "source": [
        "y_test[:3]"
      ],
      "metadata": {
        "colab": {
          "base_uri": "https://localhost:8080/"
        },
        "id": "4B5d_w4wCiZb",
        "outputId": "7b7b0261-a6d0-472f-b0e8-ca653a9f5a1d"
      },
      "execution_count": 6,
      "outputs": [
        {
          "output_type": "execute_result",
          "data": {
            "text/plain": [
              "array([2, 0, 1])"
            ]
          },
          "metadata": {},
          "execution_count": 6
        }
      ]
    },
    {
      "cell_type": "code",
      "source": [
        "scaler=MinMaxScaler()\n",
        "scaler.fit(X_train)\n",
        "X_train_scaled=scaler.transform(X_train)"
      ],
      "metadata": {
        "id": "0fFSMyhvCqwj"
      },
      "execution_count": 7,
      "outputs": []
    },
    {
      "cell_type": "code",
      "source": [
        "# scaler 저장\n",
        "import joblib\n",
        "joblib.dump(scaler,'iris_scaler.pkl')"
      ],
      "metadata": {
        "colab": {
          "base_uri": "https://localhost:8080/"
        },
        "id": "guXqbwr0C52R",
        "outputId": "c4194567-6005-49cd-9aa0-c4dd9dc4c7d4"
      },
      "execution_count": 15,
      "outputs": [
        {
          "output_type": "execute_result",
          "data": {
            "text/plain": [
              "['iris_scaler.pkl']"
            ]
          },
          "metadata": {},
          "execution_count": 15
        }
      ]
    },
    {
      "cell_type": "markdown",
      "source": [
        "### 2.Model저장"
      ],
      "metadata": {
        "id": "60hLl0GADVOV"
      }
    },
    {
      "cell_type": "code",
      "source": [
        "lr=LogisticRegression(random_state=2022)"
      ],
      "metadata": {
        "id": "uPJ_S0EiDYeT"
      },
      "execution_count": 10,
      "outputs": []
    },
    {
      "cell_type": "code",
      "source": [
        "params={\n",
        "    'C':[0.1,1,5,10]\n",
        "}\n",
        "grid_cv=GridSearchCV(lr,param_grid=params,scoring='accuracy',cv=5)\n",
        "grid_cv.fit(X_train_scaled,y_train)\n",
        "grid_cv.best_params_"
      ],
      "metadata": {
        "colab": {
          "base_uri": "https://localhost:8080/"
        },
        "id": "1p9i5AD_GbZL",
        "outputId": "27854b58-86f2-4f57-ab51-a1b10103c7da"
      },
      "execution_count": 12,
      "outputs": [
        {
          "output_type": "execute_result",
          "data": {
            "text/plain": [
              "{'C': 10}"
            ]
          },
          "metadata": {},
          "execution_count": 12
        }
      ]
    },
    {
      "cell_type": "code",
      "source": [
        "best_lr=grid_cv.best_estimator_\n",
        "joblib.dump(best_lr,'iris_best_lr.pkl')"
      ],
      "metadata": {
        "colab": {
          "base_uri": "https://localhost:8080/"
        },
        "id": "LwUXvQa0HC5z",
        "outputId": "919468cd-4c7d-4d38-e5fe-fd63b40c0755"
      },
      "execution_count": 13,
      "outputs": [
        {
          "output_type": "execute_result",
          "data": {
            "text/plain": [
              "['iris_best_lr.pkl']"
            ]
          },
          "metadata": {},
          "execution_count": 13
        }
      ]
    },
    {
      "cell_type": "markdown",
      "source": [
        "### 3.Test code"
      ],
      "metadata": {
        "id": "zQlTTZMkHeFj"
      }
    },
    {
      "cell_type": "code",
      "source": [
        "import numpy as np\n",
        "test_array=np.array([7.1,3. ,5.9,2.1])"
      ],
      "metadata": {
        "id": "sk9qMRRMHhCE"
      },
      "execution_count": 16,
      "outputs": []
    },
    {
      "cell_type": "code",
      "source": [
        "new_scaler=joblib.load('iris_scaler.pkl')\n",
        "test_scaled=new_scaler.transform(test_array.reshape(1,-1))"
      ],
      "metadata": {
        "id": "-eWXpsX-IAL1"
      },
      "execution_count": 18,
      "outputs": []
    },
    {
      "cell_type": "code",
      "source": [
        "test_scaled"
      ],
      "metadata": {
        "colab": {
          "base_uri": "https://localhost:8080/"
        },
        "id": "Wk_e9qrIIx80",
        "outputId": "855fa5e6-abd7-4199-8c99-b0842f91e40b"
      },
      "execution_count": 19,
      "outputs": [
        {
          "output_type": "execute_result",
          "data": {
            "text/plain": [
              "array([[0.82352941, 0.41666667, 0.83050847, 0.83333333]])"
            ]
          },
          "metadata": {},
          "execution_count": 19
        }
      ]
    },
    {
      "cell_type": "code",
      "source": [
        "new_lr=joblib.load('iris_best_lr.pkl')\n",
        "pred=new_lr.predict(test_scaled)\n",
        "pred"
      ],
      "metadata": {
        "colab": {
          "base_uri": "https://localhost:8080/"
        },
        "id": "OwwUTw1tI0yM",
        "outputId": "9c99022d-36cf-4a30-f595-986d4d8a1d2a"
      },
      "execution_count": 20,
      "outputs": [
        {
          "output_type": "execute_result",
          "data": {
            "text/plain": [
              "array([2])"
            ]
          },
          "metadata": {},
          "execution_count": 20
        }
      ]
    },
    {
      "cell_type": "code",
      "source": [
        "result=iris.target_names[pred[0]]\n",
        "result"
      ],
      "metadata": {
        "colab": {
          "base_uri": "https://localhost:8080/",
          "height": 36
        },
        "id": "earW0b7WJEQs",
        "outputId": "8b9df246-5846-4ae6-efcb-f72c743bfc08"
      },
      "execution_count": 22,
      "outputs": [
        {
          "output_type": "execute_result",
          "data": {
            "text/plain": [
              "'virginica'"
            ],
            "application/vnd.google.colaboratory.intrinsic+json": {
              "type": "string"
            }
          },
          "metadata": {},
          "execution_count": 22
        }
      ]
    },
    {
      "cell_type": "code",
      "source": [
        "!mv iris_best_lr.pkl iris_scaler.pkl drive/MyDrive/project/static/model/"
      ],
      "metadata": {
        "id": "QD0mBAyeJ0_b"
      },
      "execution_count": 23,
      "outputs": []
    }
  ]
}