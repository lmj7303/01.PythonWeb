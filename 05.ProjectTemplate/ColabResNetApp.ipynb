{
  "cells": [
    {
      "cell_type": "markdown",
      "metadata": {
        "id": "-Gm_AKkalOPw"
      },
      "source": [
        "#Project Template App - Run with Ngrok and Colab"
      ]
    },
    {
      "cell_type": "code",
      "execution_count": 19,
      "metadata": {
        "id": "yytF9rFJlTNo"
      },
      "outputs": [],
      "source": [
        "!pip install flask-ngrok > /dev/null 2>&1\n",
        "!pip install pyngrok > /dev/null 2>&1"
      ]
    },
    {
      "cell_type": "code",
      "execution_count": 20,
      "metadata": {
        "colab": {
          "base_uri": "https://localhost:8080/"
        },
        "id": "vkVOf8LdlWMf",
        "outputId": "d5934000-60ef-4a97-ae21-1b7f8ce9ad16"
      },
      "outputs": [
        {
          "name": "stdout",
          "output_type": "stream",
          "text": [
            "Drive already mounted at /content/drive; to attempt to forcibly remount, call drive.mount(\"/content/drive\", force_remount=True).\n"
          ]
        }
      ],
      "source": [
        "from google.colab import drive\n",
        "drive.mount('/content/drive')"
      ]
    },
    {
      "cell_type": "code",
      "execution_count": 21,
      "metadata": {
        "id": "UTKGEokQlIlU"
      },
      "outputs": [],
      "source": [
        "with open('drive/MyDrive/project/static/ngrok_auth.txt') as nf:\n",
        "    ngrok_auth = nf.read()"
      ]
    },
    {
      "cell_type": "code",
      "execution_count": 22,
      "metadata": {
        "colab": {
          "base_uri": "https://localhost:8080/"
        },
        "id": "U2FaiRCWlzaA",
        "outputId": "2523b557-7f20-4425-92f2-b35a05f5484f"
      },
      "outputs": [
        {
          "name": "stdout",
          "output_type": "stream",
          "text": [
            "Authtoken saved to configuration file: /root/.ngrok2/ngrok.yml\n"
          ]
        }
      ],
      "source": [
        "!ngrok authtoken $ngrok_auth"
      ]
    },
    {
      "cell_type": "markdown",
      "metadata": {
        "id": "-X91SatBl3UH"
      },
      "source": [
        "Web Server Code"
      ]
    },
    {
      "cell_type": "code",
      "execution_count": 34,
      "metadata": {
        "colab": {
          "base_uri": "https://localhost:8080/"
        },
        "id": "qzmbgFlYl4Is",
        "outputId": "7c33fba5-ee9d-4aa6-aed2-8d7c0731d8d8"
      },
      "outputs": [
        {
          "name": "stdout",
          "output_type": "stream",
          "text": [
            " * Serving Flask app \"__main__\" (lazy loading)\n",
            " * Environment: production\n",
            "\u001b[31m   WARNING: This is a development server. Do not use it in a production deployment.\u001b[0m\n",
            "\u001b[2m   Use a production WSGI server instead.\u001b[0m\n",
            " * Debug mode: off\n"
          ]
        },
        {
          "name": "stderr",
          "output_type": "stream",
          "text": [
            "INFO:werkzeug: * Running on http://127.0.0.1:5000/ (Press CTRL+C to quit)\n"
          ]
        },
        {
          "name": "stdout",
          "output_type": "stream",
          "text": [
            " * Running on http://a22a-34-148-104-58.ngrok.io\n",
            " * Traffic stats available on http://127.0.0.1:4040\n"
          ]
        },
        {
          "name": "stderr",
          "output_type": "stream",
          "text": [
            "INFO:werkzeug:127.0.0.1 - - [26/Aug/2022 02:30:41] \"\u001b[37mGET / HTTP/1.1\u001b[0m\" 200 -\n",
            "INFO:werkzeug:127.0.0.1 - - [26/Aug/2022 02:30:42] \"\u001b[37mGET /static/img/logo.png HTTP/1.1\u001b[0m\" 200 -\n",
            "INFO:werkzeug:127.0.0.1 - - [26/Aug/2022 02:30:42] \"\u001b[37mGET /static/img/favicon.ico HTTP/1.1\u001b[0m\" 200 -\n",
            "INFO:werkzeug:127.0.0.1 - - [26/Aug/2022 02:30:47] \"\u001b[37mGET /menu HTTP/1.1\u001b[0m\" 200 -\n"
          ]
        },
        {
          "name": "stdout",
          "output_type": "stream",
          "text": [
            "Downloading data from https://storage.googleapis.com/download.tensorflow.org/data/imagenet_class_index.json\n",
            "40960/35363 [==================================] - 0s 0us/step\n",
            "49152/35363 [=========================================] - 0s 0us/step\n"
          ]
        },
        {
          "name": "stderr",
          "output_type": "stream",
          "text": [
            "INFO:werkzeug:127.0.0.1 - - [26/Aug/2022 02:31:01] \"\u001b[37mPOST /menu HTTP/1.1\u001b[0m\" 200 -\n",
            "INFO:werkzeug:127.0.0.1 - - [26/Aug/2022 02:31:02] \"\u001b[37mGET /static/upload/다운로드%20%281%29.jfif?q=1661481058 HTTP/1.1\u001b[0m\" 200 -\n"
          ]
        }
      ],
      "source": [
        "from flask import Flask, render_template, request\n",
        "from flask_ngrok import run_with_ngrok\n",
        "import os\n",
        "from tensorflow.keras.applications.resnet50 import ResNet50,decode_predictions\n",
        "import numpy as np\n",
        "from PIL import Image\n",
        "import matplotlib.pyplot as plt\n",
        "\n",
        "\n",
        "app = Flask(__name__, static_folder='/content/drive/MyDrive/project/static',\n",
        "                      template_folder='/content/drive/MyDrive/project/templates')\n",
        "\n",
        "run_with_ngrok(app)\n",
        "\n",
        "@app.before_first_request\n",
        "def before_first_request():\n",
        "  global ResNet50\n",
        "  resnet50=ResNet50()\n",
        "\n",
        "@app.route('/')\n",
        "def home():\n",
        "    menu = {'home':1, 'menu':0}\n",
        "    return render_template('index.html', menu=menu)\n",
        "\n",
        "@app.route('/menu', methods=['GET','POST'])\n",
        "def menu():\n",
        "    menu = {'home':0, 'menu':1}\n",
        "    if request.method == 'GET':\n",
        "        languages = [\n",
        "            {'disp':'영어', 'val':'en'},\n",
        "            {'disp':'일어', 'val':'jp'},\n",
        "            {'disp':'중국어', 'val':'cn'},\n",
        "            {'disp':'프랑스어', 'val':'fr'},\n",
        "            {'disp':'스페인어', 'val':'es'}\n",
        "        ]\n",
        "        return render_template('menu.html', menu=menu,\n",
        "                                options=languages)   # 서버에서 클라이언트로 정보 전달\n",
        "                \n",
        "    else:\n",
        "        # 사용자가 입력한 정보를 서버가 읽음\n",
        "        #index = request.form['index']\n",
        "        #lang = request.form['lang']\n",
        "        #lyrics = request.form['lyrics']\n",
        "        #print(lang, '\\n', index, '\\n', lyrics, sep='')\n",
        "        # 사용자가 입력한 파일을 읽어서 upload 디렉토리에 저장\n",
        "        f_image = request.files['image']\n",
        "        fname = f_image.filename                # 사용자가 입력한 파일 이름\n",
        "        filename = os.path.join(app.static_folder, 'upload/') + fname\n",
        "        f_image.save(filename)\n",
        "        ext=fname.split('.')[-1]\n",
        "\n",
        "        #모델실행\n",
        "        resnet50=ResNet50()\n",
        "        img=Image.open(filename)\n",
        "        img=img.resize((224,224))\n",
        "        if ext.lower()=='png':\n",
        "          img_array=np.array(img)[:,:,:3]\n",
        "        else:\n",
        "          img_array=np.array(img)\n",
        "\n",
        "        yhat=resnet50.predict(img_array.reshape(1,224,224,3))\n",
        "        label=decode_predictions(yhat)\n",
        "        img_class=label[0][0][1]\n",
        "        prob=label[0][0][2]\n",
        "\n",
        "        # 모델 실행후 결과를 돌려줌\n",
        "        #result = '독수리 (73.52%)'\n",
        "        result=f'{img_class} ({prob*100:.2f}%)'\n",
        "        mtime = int(os.stat(filename).st_mtime)\n",
        "        return render_template('menu_res.html', result=result, menu=menu,\n",
        "                                fname=fname, mtime=mtime)\n",
        "\n",
        "if __name__ == '__main__':\n",
        "    app.run()"
      ]
    }
  ],
  "metadata": {
    "colab": {
      "collapsed_sections": [],
      "name": "ColabResNetApp.ipynb",
      "provenance": []
    },
    "kernelspec": {
      "display_name": "Python 3.9.12 ('base')",
      "language": "python",
      "name": "python3"
    },
    "language_info": {
      "name": "python",
      "version": "3.9.12"
    },
    "vscode": {
      "interpreter": {
        "hash": "f3d52b0515ca5194bd4d05615cb1873b0bef5b53629cb5db9e33dc80d3840612"
      }
    }
  },
  "nbformat": 4,
  "nbformat_minor": 0
}
